{
 "cells": [
  {
   "cell_type": "markdown",
   "metadata": {},
   "source": [
    "## Introduction"
   ]
  },
  {
   "cell_type": "markdown",
   "metadata": {},
   "source": [
    "### Parameters"
   ]
  },
  {
   "cell_type": "code",
   "execution_count": 55,
   "metadata": {},
   "outputs": [],
   "source": [
    "import pandas as pd\n",
    "import numpy as np\n",
    "import logging\n",
    "import concurrent.futures\n",
    "import matplotlib.pyplot as plt\n",
    "import seaborn as sns\n",
    "from sklearn.decomposition import PCA\n",
    "from sklearn.metrics import classification_report, balanced_accuracy_score, f1_score, confusion_matrix, balanced_accuracy_score\n",
    "from sklearn.feature_selection import f_classif, mutual_info_classif, VarianceThreshold\n",
    "from sklearn.pipeline import Pipeline\n",
    "from sklearn.model_selection import train_test_split, GridSearchCV, StratifiedKFold\n",
    "from sklearn.ensemble import RandomForestClassifier, GradientBoostingClassifier\n",
    "from sklearn.neural_network import MLPClassifier\n",
    "from sklearn.dummy import DummyClassifier\n",
    "import plotly.express as px\n",
    "from sklearn.metrics import confusion_matrix, ConfusionMatrixDisplay\n",
    "from sklearn.feature_selection import SelectFromModel\n",
    "import threading\n",
    "from sklearn.preprocessing import StandardScaler\n",
    "from sklearn.metrics import make_scorer\n",
    "\n",
    "\n",
    "%matplotlib inline\n",
    "np.random.seed(0)\n",
    "random_state = 42\n",
    "print_lock = threading.Lock()\n",
    "\n",
    "logging.basicConfig(level=logging.INFO, format='%(asctime)s - %(levelname)s - %(message)s')"
   ]
  },
  {
   "cell_type": "code",
   "execution_count": 56,
   "metadata": {},
   "outputs": [],
   "source": [
    "noises = [0, 0.2, 0.4, 0.6, 0.8]\n",
    "\n",
    "n_estimators = [15, 30, 50, 75, 100, 150, 200, 300, 350, 400]\n",
    "max_depth = [None, 5, 10]\n",
    "min_samples_split = [2, 5, 10]\n",
    "learning_rate = [0.01, 0.1, 1]\n",
    "\n",
    "stratified_k_fold = StratifiedKFold(n_splits=2, shuffle=True, random_state=random_state)\n",
    "variance_threshold = VarianceThreshold()\n",
    "scaler = StandardScaler()\n",
    "\n",
    "model_name_map = { 'rf': 'Random Forest', 'gb': 'Gradient Boosting' }\n",
    "\n",
    "rf = RandomForestClassifier(class_weight='balanced', random_state=random_state)\n",
    "gb = GradientBoostingClassifier(random_state=random_state)\n",
    "\n",
    "selector = SelectFromModel(rf, threshold='mean')"
   ]
  },
  {
   "cell_type": "markdown",
   "metadata": {},
   "source": [
    "### Datasets splits and exploratory analysis"
   ]
  },
  {
   "cell_type": "code",
   "execution_count": 57,
   "metadata": {},
   "outputs": [
    {
     "name": "stderr",
     "output_type": "stream",
     "text": [
      "/tmp/ipykernel_100320/2658123069.py:2: FutureWarning: The 'delim_whitespace' keyword in pd.read_csv is deprecated and will be removed in a future version. Use ``sep='\\s+'`` instead\n",
      "  X_cancer = pd.read_csv('../data/TCGAdata.txt', delim_whitespace=True, index_col=0, header=0)\n",
      "/tmp/ipykernel_100320/2658123069.py:3: FutureWarning: The 'delim_whitespace' keyword in pd.read_csv is deprecated and will be removed in a future version. Use ``sep='\\s+'`` instead\n",
      "  Y_cancer = pd.read_csv('../data/TCGAlabels.txt', delim_whitespace=True, index_col=0, header=0)\n"
     ]
    }
   ],
   "source": [
    "# read cancer data\n",
    "X_cancer = pd.read_csv('../data/TCGAdata.txt', delim_whitespace=True, index_col=0, header=0)\n",
    "Y_cancer = pd.read_csv('../data/TCGAlabels.txt', delim_whitespace=True, index_col=0, header=0)\n",
    "\n",
    "Y_cancer['x'].unique()\n",
    "# assign a numbered label for Y\n",
    "label_map_cancer = {'GBM': 0, 'BC': 1, 'OV': 2, 'LU': 3, 'KI': 4, 'U': 5}\n",
    "Y_cancer['x'] = Y_cancer['x'].map(label_map_cancer)"
   ]
  },
  {
   "cell_type": "code",
   "execution_count": 58,
   "metadata": {},
   "outputs": [],
   "source": [
    "# read cats and dogs data\n",
    "X_cats_dogs = pd.read_csv('../data/CATSnDOGS.csv')\n",
    "Y_cats_dogs = pd.read_csv('../data/CATSnDOGSlabels.csv')"
   ]
  },
  {
   "cell_type": "code",
   "execution_count": 59,
   "metadata": {},
   "outputs": [],
   "source": [
    "def splits(X, Y, gaussian_noise_factor=0, test_size=0.2):\n",
    "    ''' Split into train and test. Includes noise and mislabeling. '''\n",
    "    X = scaler.fit_transform(X)\n",
    "    noise = np.random.normal(0, 1, X.shape)\n",
    "    X = X + gaussian_noise_factor * noise\n",
    "    X_train, X_test, Y_train, Y_test = train_test_split(X, Y, test_size=test_size, random_state=random_state, stratify=Y)\n",
    "    \n",
    "    return X_train, X_test, Y_train, Y_test"
   ]
  },
  {
   "cell_type": "code",
   "execution_count": 60,
   "metadata": {},
   "outputs": [
    {
     "data": {
      "text/html": [
       "<div>\n",
       "<style scoped>\n",
       "    .dataframe tbody tr th:only-of-type {\n",
       "        vertical-align: middle;\n",
       "    }\n",
       "\n",
       "    .dataframe tbody tr th {\n",
       "        vertical-align: top;\n",
       "    }\n",
       "\n",
       "    .dataframe thead th {\n",
       "        text-align: right;\n",
       "    }\n",
       "</style>\n",
       "<table border=\"1\" class=\"dataframe\">\n",
       "  <thead>\n",
       "    <tr style=\"text-align: right;\">\n",
       "      <th></th>\n",
       "      <th>V1</th>\n",
       "      <th>V2</th>\n",
       "      <th>V3</th>\n",
       "      <th>V4</th>\n",
       "      <th>V5</th>\n",
       "      <th>V6</th>\n",
       "      <th>V7</th>\n",
       "      <th>V8</th>\n",
       "      <th>V9</th>\n",
       "      <th>V10</th>\n",
       "      <th>...</th>\n",
       "      <th>V4087</th>\n",
       "      <th>V4088</th>\n",
       "      <th>V4089</th>\n",
       "      <th>V4090</th>\n",
       "      <th>V4091</th>\n",
       "      <th>V4092</th>\n",
       "      <th>V4093</th>\n",
       "      <th>V4094</th>\n",
       "      <th>V4095</th>\n",
       "      <th>V4096</th>\n",
       "    </tr>\n",
       "  </thead>\n",
       "  <tbody>\n",
       "    <tr>\n",
       "      <th>0</th>\n",
       "      <td>23</td>\n",
       "      <td>116</td>\n",
       "      <td>227</td>\n",
       "      <td>149</td>\n",
       "      <td>49</td>\n",
       "      <td>131</td>\n",
       "      <td>31</td>\n",
       "      <td>31</td>\n",
       "      <td>86</td>\n",
       "      <td>86</td>\n",
       "      <td>...</td>\n",
       "      <td>59</td>\n",
       "      <td>116</td>\n",
       "      <td>102</td>\n",
       "      <td>78</td>\n",
       "      <td>102</td>\n",
       "      <td>102</td>\n",
       "      <td>116</td>\n",
       "      <td>139</td>\n",
       "      <td>152</td>\n",
       "      <td>166</td>\n",
       "    </tr>\n",
       "    <tr>\n",
       "      <th>1</th>\n",
       "      <td>247</td>\n",
       "      <td>247</td>\n",
       "      <td>245</td>\n",
       "      <td>245</td>\n",
       "      <td>245</td>\n",
       "      <td>245</td>\n",
       "      <td>245</td>\n",
       "      <td>235</td>\n",
       "      <td>235</td>\n",
       "      <td>223</td>\n",
       "      <td>...</td>\n",
       "      <td>110</td>\n",
       "      <td>100</td>\n",
       "      <td>100</td>\n",
       "      <td>70</td>\n",
       "      <td>66</td>\n",
       "      <td>70</td>\n",
       "      <td>70</td>\n",
       "      <td>70</td>\n",
       "      <td>70</td>\n",
       "      <td>78</td>\n",
       "    </tr>\n",
       "    <tr>\n",
       "      <th>2</th>\n",
       "      <td>77</td>\n",
       "      <td>77</td>\n",
       "      <td>77</td>\n",
       "      <td>87</td>\n",
       "      <td>87</td>\n",
       "      <td>94</td>\n",
       "      <td>94</td>\n",
       "      <td>94</td>\n",
       "      <td>105</td>\n",
       "      <td>87</td>\n",
       "      <td>...</td>\n",
       "      <td>116</td>\n",
       "      <td>125</td>\n",
       "      <td>128</td>\n",
       "      <td>128</td>\n",
       "      <td>128</td>\n",
       "      <td>128</td>\n",
       "      <td>125</td>\n",
       "      <td>125</td>\n",
       "      <td>116</td>\n",
       "      <td>116</td>\n",
       "    </tr>\n",
       "    <tr>\n",
       "      <th>3</th>\n",
       "      <td>32</td>\n",
       "      <td>28</td>\n",
       "      <td>28</td>\n",
       "      <td>28</td>\n",
       "      <td>28</td>\n",
       "      <td>28</td>\n",
       "      <td>28</td>\n",
       "      <td>28</td>\n",
       "      <td>28</td>\n",
       "      <td>28</td>\n",
       "      <td>...</td>\n",
       "      <td>73</td>\n",
       "      <td>73</td>\n",
       "      <td>73</td>\n",
       "      <td>79</td>\n",
       "      <td>108</td>\n",
       "      <td>131</td>\n",
       "      <td>148</td>\n",
       "      <td>148</td>\n",
       "      <td>148</td>\n",
       "      <td>131</td>\n",
       "    </tr>\n",
       "    <tr>\n",
       "      <th>4</th>\n",
       "      <td>3</td>\n",
       "      <td>44</td>\n",
       "      <td>112</td>\n",
       "      <td>136</td>\n",
       "      <td>120</td>\n",
       "      <td>120</td>\n",
       "      <td>125</td>\n",
       "      <td>122</td>\n",
       "      <td>129</td>\n",
       "      <td>133</td>\n",
       "      <td>...</td>\n",
       "      <td>186</td>\n",
       "      <td>184</td>\n",
       "      <td>181</td>\n",
       "      <td>180</td>\n",
       "      <td>179</td>\n",
       "      <td>173</td>\n",
       "      <td>170</td>\n",
       "      <td>192</td>\n",
       "      <td>119</td>\n",
       "      <td>14</td>\n",
       "    </tr>\n",
       "  </tbody>\n",
       "</table>\n",
       "<p>5 rows × 4096 columns</p>\n",
       "</div>"
      ],
      "text/plain": [
       "    V1   V2   V3   V4   V5   V6   V7   V8   V9  V10  ...  V4087  V4088  V4089  \\\n",
       "0   23  116  227  149   49  131   31   31   86   86  ...     59    116    102   \n",
       "1  247  247  245  245  245  245  245  235  235  223  ...    110    100    100   \n",
       "2   77   77   77   87   87   94   94   94  105   87  ...    116    125    128   \n",
       "3   32   28   28   28   28   28   28   28   28   28  ...     73     73     73   \n",
       "4    3   44  112  136  120  120  125  122  129  133  ...    186    184    181   \n",
       "\n",
       "   V4090  V4091  V4092  V4093  V4094  V4095  V4096  \n",
       "0     78    102    102    116    139    152    166  \n",
       "1     70     66     70     70     70     70     78  \n",
       "2    128    128    128    125    125    116    116  \n",
       "3     79    108    131    148    148    148    131  \n",
       "4    180    179    173    170    192    119     14  \n",
       "\n",
       "[5 rows x 4096 columns]"
      ]
     },
     "execution_count": 60,
     "metadata": {},
     "output_type": "execute_result"
    }
   ],
   "source": [
    "X_cats_dogs.head()"
   ]
  },
  {
   "cell_type": "code",
   "execution_count": 61,
   "metadata": {},
   "outputs": [
    {
     "data": {
      "image/png": "[encoded data removed]",
      "text/plain": [
       "<Figure size 1200x600 with 4 Axes>"
      ]
     },
     "metadata": {},
     "output_type": "display_data"
    }
   ],
   "source": [
    "def rotateM(x):\n",
    "    return np.transpose(np.apply_along_axis(np.flip, 0, x))\n",
    "\n",
    "def plot_images(indices, data, category, cmap='gray'):\n",
    "    for idx, i in enumerate(indices):\n",
    "        plt.subplot(2, 2, idx + 1 + category * 2)\n",
    "        plt.imshow(rotateM(data.iloc[i, :].values.reshape(64, 64)), cmap=cmap)\n",
    "        plt.xlabel('')\n",
    "        plt.ylabel('')\n",
    "\n",
    "# random selections\n",
    "ssc = np.random.choice(np.where(Y_cats_dogs == 0)[0], 2, replace=False)\n",
    "ssd = np.random.choice(np.where(Y_cats_dogs == 1)[0], 2, replace=False)\n",
    "\n",
    "plt.figure(figsize=(12, 6))\n",
    "plot_images(ssc, X_cats_dogs, category=0)\n",
    "plot_images(ssd, X_cats_dogs, category=1)\n",
    "plt.show()"
   ]
  },
  {
   "cell_type": "markdown",
   "metadata": {},
   "source": [
    "## Setup"
   ]
  },
  {
   "cell_type": "markdown",
   "metadata": {},
   "source": [
    "### Pipeline and grid search"
   ]
  },
  {
   "cell_type": "code",
   "execution_count": 62,
   "metadata": {},
   "outputs": [],
   "source": [
    "# Parameter grid for Random Forest (bagging)\n",
    "\n",
    "\n",
    "params_rf = {\n",
    "    'classifier__n_estimators': n_estimators,\n",
    "    # 'classifier__max_depth': max_depth,\n",
    "    # 'classifier__min_samples_split': min_samples_split,\n",
    "    # 'classifier__max_features': ['sqrt', 'log2'],\n",
    "}\n",
    "\n",
    "# Parameter grid for Gradient Boosting\n",
    "params_gb = {\n",
    "    'classifier__n_estimators': n_estimators,\n",
    "    'classifier__max_depth': max_depth,\n",
    "    'classifier__min_samples_split': min_samples_split,\n",
    "    'classifier__learning_rate': learning_rate,\n",
    "    \n",
    "    # TO DO: see if the paramters below are useful\n",
    "    'classifier__subsample': [0.8, 1.0],\n",
    "    'classifier__colsample_bytree': [0.8, 1.0],\n",
    "    'classifier__min_samples_leaf': [1, 2, 4],\n",
    "    'classifier__reg_alpha': [0, 0.1, 0.5],\n",
    "    'classifier__reg_lambda': [0, 0.1, 0.5]\n",
    "}\n",
    "\n",
    "pipeline = Pipeline([\n",
    "    ('variance_threshold', VarianceThreshold()),\n",
    "    ('classifier', rf)\n",
    "])\n",
    "\n",
    "def grid_search(X_train, Y_train, model: str):\n",
    "    if model == 'rf':\n",
    "        #pipeline.named_steps['feature_selection'].estimator_ = rf\n",
    "        pipeline.named_steps['classifier'] = rf\n",
    "        params = params_rf\n",
    "    elif model == 'gb': \n",
    "        #pipeline.named_steps['feature_selection'].estimator_ = gb\n",
    "        pipeline.named_steps['classifier'] = gb\n",
    "        params = params_gb\n",
    "    else:\n",
    "        raise ValueError('Invalid model name')\n",
    "    \n",
    "    grid_search_res = GridSearchCV(pipeline, params, cv=stratified_k_fold, scoring='f1_macro', n_jobs=-1)\n",
    "    grid_search_res.fit(X_train, np.ravel(Y_train))\n",
    "        \n",
    "    return grid_search_res"
   ]
  },
  {
   "cell_type": "markdown",
   "metadata": {},
   "source": [
    "### Plots and displays"
   ]
  },
  {
   "cell_type": "code",
   "execution_count": 63,
   "metadata": {},
   "outputs": [],
   "source": [
    "def plot_learning_trend(grid_search_res, model_name, noise):\n",
    "    results = grid_search_res.cv_results_\n",
    "    \n",
    "    # mean test scores for each estimator with the same value of n_estimators\n",
    "    mean_scores = []\n",
    "    for n in n_estimators:\n",
    "        mask = results['param_classifier__n_estimators'] == n\n",
    "        if np.any(mask):\n",
    "            mean_scores.append(np.mean(results['mean_test_score'][mask]))\n",
    "        else:\n",
    "            mean_scores.append(np.nan)\n",
    "    \n",
    "    plt.figure(figsize=(8, 6))\n",
    "    plt.plot(n_estimators, mean_scores, marker='o')\n",
    "    plt.xlabel('n estimators')\n",
    "    plt.ylabel('cv score')\n",
    "    plt.title(f'Learning trend for different n_estimators ({model_name_map[model_name]}, {noise * 100}% noise)')\n",
    "    plt.grid(True)\n",
    "    plt.savefig(f\"imgs/{model_name}_plot_n_estimators_noise_{noise}.png\")\n",
    "    plt.show()\n",
    "    \n",
    "def plot_confusion_matrix(Y_test, Y_test_pred, labels, model_name, noise):\n",
    "  # confusion matrix and display\n",
    "  cm = confusion_matrix(Y_test, Y_test_pred)\n",
    "  cm_display = ConfusionMatrixDisplay(confusion_matrix=cm, display_labels=labels)\n",
    "  # plot the confusion matrix\n",
    "  cm_display.plot()\n",
    "  plt.title(f'Confusion matrix ({model_name_map[model_name]}, {noise * 100}% noise)')\n",
    "  plt.savefig(f\"imgs/{model_name}_confusion_matrix_noise_{noise}.png\")\n",
    "  plt.show()\n",
    "  \n",
    "def show_classification_report(X_test, Y_test, grid_search_res, model_name: str, noise):\n",
    "  Y_test_pred = grid_search_res.predict(X_test)\n",
    "  best_params = grid_search_res.best_params_\n",
    "  print(f\"Classification Report \\nOptimal parameters {best_params} ({model_name_map[model_name]}, noise: {noise * 100}%)\\n\",\n",
    "      classification_report(Y_test, Y_test_pred)) \n",
    "\n",
    "def show_feature_importance(grid_search_res, X, model_name: str, noise: float):\n",
    "    # feature importances from the best estimator\n",
    "    best_estimator = grid_search_res.best_estimator_.named_steps['classifier']\n",
    "    feature_importances = best_estimator.feature_importances_\n",
    "    # feature names for features kept after filtering\n",
    "    variance_threshold = grid_search_res.best_estimator_.named_steps['variance_threshold']\n",
    "    feature_names = X.columns[variance_threshold.get_support()]\n",
    "    print(f'Length of feature_names: {len(feature_names)}')\n",
    "    print(f'Length of feature_importances: {len(feature_importances)}')\n",
    "\n",
    "    # dataframe for feature importances\n",
    "    feature_importance_df = pd.DataFrame({'feature': feature_names, 'importance': feature_importances})\n",
    "    top_10_features = feature_importance_df.sort_values('importance', ascending=False).head(10)\n",
    "\n",
    "    plt.figure(figsize=(8, 6))\n",
    "    plt.bar(top_10_features['feature'], top_10_features['importance'], color='steelblue')\n",
    "    plt.xlabel('Feature')\n",
    "    plt.ylabel('Importance')\n",
    "    plt.title(f'Top 10 Features ({model_name}, {noise * 100:.1f}% Noise)')\n",
    "    plt.xticks(rotation=45, ha='right')\n",
    "    plt.savefig(f\"imgs/{model_name}_top_10_features_noise_{noise}.png\", bbox_inches='tight')\n",
    "    plt.show()"
   ]
  },
  {
   "cell_type": "markdown",
   "metadata": {},
   "source": [
    "### Main processes"
   ]
  },
  {
   "cell_type": "code",
   "execution_count": 64,
   "metadata": {},
   "outputs": [],
   "source": [
    "def process_noise(model_name, noise, data='cancer'):\n",
    "    # split dataset\n",
    "    if data == 'cancer':\n",
    "        X_train, X_test, Y_train, Y_test = splits(X_cancer, Y_cancer, noise)\n",
    "    if data == 'cats_dogs':\n",
    "        X_train, X_test, Y_train, Y_test = splits(X_cats_dogs, Y_cats_dogs, noise)\n",
    "\n",
    "    # grid search and metrics\n",
    "    grid_search_res = grid_search(X_train, Y_train, 'rf')\n",
    "    balanced_ac_score = balanced_accuracy_score(Y_test, grid_search_res.predict(X_test))\n",
    "    f1_scores = f1_score(Y_test, grid_search_res.predict(X_test), average='macro')\n",
    "    \n",
    "    # show results\n",
    "    with print_lock:\n",
    "        plot_learning_trend(grid_search_res, model_name, noise)\n",
    "        show_classification_report(X_test, Y_test, grid_search_res, model_name, noise)\n",
    "        plot_confusion_matrix(Y_test, grid_search_res.predict(X_test), Y_cancer['x'].unique(), model_name, noise)\n",
    "        show_feature_importance(grid_search_res, X_train, model_name, noise)\n",
    "    \n",
    "    return {'noise': noise, 'grid_search_res': grid_search_res, 'balanced_ac_score': balanced_ac_score, 'f1_score': f1_scores}"
   ]
  },
  {
   "cell_type": "code",
   "execution_count": 65,
   "metadata": {},
   "outputs": [],
   "source": [
    "def main_parallel(model_name: str, data='cancer'):\n",
    "    logging.info(f'Starting main function with model_name: {model_name}')\n",
    "    \n",
    "    with concurrent.futures.ThreadPoolExecutor() as executor:\n",
    "        futures = []\n",
    "        for noise in noises:\n",
    "            logging.info(f'Submitting task for noise level: {noise}')\n",
    "            future = executor.submit(process_noise, model_name, noise)\n",
    "            futures.append(future)\n",
    "        \n",
    "        results = []\n",
    "        for i, future in enumerate(concurrent.futures.as_completed(futures)):\n",
    "            result = future.result()\n",
    "            results.append(result)\n",
    "            logging.info(f'Task {i + 1} completed with result: {result}')\n",
    "            \n",
    "        # print a summary with all the reuslts obtianed\n",
    "        results = sorted(results, key=lambda x: x['noise'], reverse=True)\n",
    "        logging.info('Summary of results:')\n",
    "        for result in results:\n",
    "            logging.info(f'Noise: {result[\"noise\"]}, Balanced Accuracy Score: {result[\"balanced_ac_score\"]}, F1 Score: {result[\"f1_score\"]}')\n",
    "            \n",
    "        # plot with the accuracy of the best estimator for each noise level\n",
    "        # each line is a different noise level\n",
    "        plt.figure(figsize=(8, 6))\n",
    "        for result in results:\n",
    "            plt.plot(n_estimators, result['grid_search_res'].cv_results_['mean_test_score'], marker='o', label=f'Noise: {result[\"noise\"]}')\n",
    "        plt.xlabel('n estimators')\n",
    "        plt.ylabel('cv score')\n",
    "        plt.legend()\n",
    "        plt.grid(True)\n",
    "        plt.title(f'Learning trend for different n_estimators ({model_name_map[model_name]})')\n",
    "        plt.show()\n",
    "        \n",
    "        # from the best estimator of each noise level, plot the top 10 features \n",
    "        # highligting the differences between the noise levels. specify in the title\n",
    "        # of the barplaot also the number of estiamtor applied in them\n",
    "        # for result in results:\n",
    "        #     show_feature_importance(result['grid_search_res'], X_cancer, model_name, result['noise'])\n",
    "        \n",
    "        # plot the class separation in a 2D space using PCA\n",
    "        \n",
    "    logging.info('All tasks completed.')"
   ]
  },
  {
   "cell_type": "markdown",
   "metadata": {},
   "source": [
    "## Test"
   ]
  },
  {
   "cell_type": "code",
   "execution_count": 66,
   "metadata": {},
   "outputs": [
    {
     "name": "stderr",
     "output_type": "stream",
     "text": [
      "2024-04-25 16:42:43,636 - INFO - Starting main function with model_name: rf\n",
      "2024-04-25 16:42:43,637 - INFO - Submitting task for noise level: 0\n",
      "2024-04-25 16:42:43,638 - INFO - Submitting task for noise level: 0.2\n",
      "2024-04-25 16:42:43,644 - INFO - Submitting task for noise level: 0.4\n",
      "2024-04-25 16:42:43,652 - INFO - Submitting task for noise level: 0.6\n",
      "2024-04-25 16:42:43,666 - INFO - Submitting task for noise level: 0.8\n"
     ]
    },
    {
     "ename": "InvalidParameterError",
     "evalue": "The 'average' parameter of f1_score must be a str among {'micro', 'samples', 'macro', 'weighted', 'binary'} or None. Got 'f1_samples' instead.",
     "output_type": "error",
     "traceback": [
      "\u001b[0;31m---------------------------------------------------------------------------\u001b[0m",
      "\u001b[0;31mInvalidParameterError\u001b[0m                     Traceback (most recent call last)",
      "File \u001b[0;32m<timed eval>:1\u001b[0m\n",
      "Cell \u001b[0;32mIn[65], line 13\u001b[0m, in \u001b[0;36mmain_parallel\u001b[0;34m(model_name, data)\u001b[0m\n\u001b[1;32m     11\u001b[0m results \u001b[38;5;241m=\u001b[39m []\n\u001b[1;32m     12\u001b[0m \u001b[38;5;28;01mfor\u001b[39;00m i, future \u001b[38;5;129;01min\u001b[39;00m \u001b[38;5;28menumerate\u001b[39m(concurrent\u001b[38;5;241m.\u001b[39mfutures\u001b[38;5;241m.\u001b[39mas_completed(futures)):\n\u001b[0;32m---> 13\u001b[0m     result \u001b[38;5;241m=\u001b[39m \u001b[43mfuture\u001b[49m\u001b[38;5;241;43m.\u001b[39;49m\u001b[43mresult\u001b[49m\u001b[43m(\u001b[49m\u001b[43m)\u001b[49m\n\u001b[1;32m     14\u001b[0m     results\u001b[38;5;241m.\u001b[39mappend(result)\n\u001b[1;32m     15\u001b[0m     logging\u001b[38;5;241m.\u001b[39minfo(\u001b[38;5;124mf\u001b[39m\u001b[38;5;124m'\u001b[39m\u001b[38;5;124mTask \u001b[39m\u001b[38;5;132;01m{\u001b[39;00mi\u001b[38;5;250m \u001b[39m\u001b[38;5;241m+\u001b[39m\u001b[38;5;250m \u001b[39m\u001b[38;5;241m1\u001b[39m\u001b[38;5;132;01m}\u001b[39;00m\u001b[38;5;124m completed with result: \u001b[39m\u001b[38;5;132;01m{\u001b[39;00mresult\u001b[38;5;132;01m}\u001b[39;00m\u001b[38;5;124m'\u001b[39m)\n",
      "File \u001b[0;32m~/mambaforge/envs/statistical/lib/python3.12/concurrent/futures/_base.py:449\u001b[0m, in \u001b[0;36mFuture.result\u001b[0;34m(self, timeout)\u001b[0m\n\u001b[1;32m    447\u001b[0m     \u001b[38;5;28;01mraise\u001b[39;00m CancelledError()\n\u001b[1;32m    448\u001b[0m \u001b[38;5;28;01melif\u001b[39;00m \u001b[38;5;28mself\u001b[39m\u001b[38;5;241m.\u001b[39m_state \u001b[38;5;241m==\u001b[39m FINISHED:\n\u001b[0;32m--> 449\u001b[0m     \u001b[38;5;28;01mreturn\u001b[39;00m \u001b[38;5;28;43mself\u001b[39;49m\u001b[38;5;241;43m.\u001b[39;49m\u001b[43m__get_result\u001b[49m\u001b[43m(\u001b[49m\u001b[43m)\u001b[49m\n\u001b[1;32m    451\u001b[0m \u001b[38;5;28mself\u001b[39m\u001b[38;5;241m.\u001b[39m_condition\u001b[38;5;241m.\u001b[39mwait(timeout)\n\u001b[1;32m    453\u001b[0m \u001b[38;5;28;01mif\u001b[39;00m \u001b[38;5;28mself\u001b[39m\u001b[38;5;241m.\u001b[39m_state \u001b[38;5;129;01min\u001b[39;00m [CANCELLED, CANCELLED_AND_NOTIFIED]:\n",
      "File \u001b[0;32m~/mambaforge/envs/statistical/lib/python3.12/concurrent/futures/_base.py:401\u001b[0m, in \u001b[0;36mFuture.__get_result\u001b[0;34m(self)\u001b[0m\n\u001b[1;32m    399\u001b[0m \u001b[38;5;28;01mif\u001b[39;00m \u001b[38;5;28mself\u001b[39m\u001b[38;5;241m.\u001b[39m_exception:\n\u001b[1;32m    400\u001b[0m     \u001b[38;5;28;01mtry\u001b[39;00m:\n\u001b[0;32m--> 401\u001b[0m         \u001b[38;5;28;01mraise\u001b[39;00m \u001b[38;5;28mself\u001b[39m\u001b[38;5;241m.\u001b[39m_exception\n\u001b[1;32m    402\u001b[0m     \u001b[38;5;28;01mfinally\u001b[39;00m:\n\u001b[1;32m    403\u001b[0m         \u001b[38;5;66;03m# Break a reference cycle with the exception in self._exception\u001b[39;00m\n\u001b[1;32m    404\u001b[0m         \u001b[38;5;28mself\u001b[39m \u001b[38;5;241m=\u001b[39m \u001b[38;5;28;01mNone\u001b[39;00m\n",
      "File \u001b[0;32m~/mambaforge/envs/statistical/lib/python3.12/concurrent/futures/thread.py:58\u001b[0m, in \u001b[0;36m_WorkItem.run\u001b[0;34m(self)\u001b[0m\n\u001b[1;32m     55\u001b[0m     \u001b[38;5;28;01mreturn\u001b[39;00m\n\u001b[1;32m     57\u001b[0m \u001b[38;5;28;01mtry\u001b[39;00m:\n\u001b[0;32m---> 58\u001b[0m     result \u001b[38;5;241m=\u001b[39m \u001b[38;5;28;43mself\u001b[39;49m\u001b[38;5;241;43m.\u001b[39;49m\u001b[43mfn\u001b[49m\u001b[43m(\u001b[49m\u001b[38;5;241;43m*\u001b[39;49m\u001b[38;5;28;43mself\u001b[39;49m\u001b[38;5;241;43m.\u001b[39;49m\u001b[43margs\u001b[49m\u001b[43m,\u001b[49m\u001b[43m \u001b[49m\u001b[38;5;241;43m*\u001b[39;49m\u001b[38;5;241;43m*\u001b[39;49m\u001b[38;5;28;43mself\u001b[39;49m\u001b[38;5;241;43m.\u001b[39;49m\u001b[43mkwargs\u001b[49m\u001b[43m)\u001b[49m\n\u001b[1;32m     59\u001b[0m \u001b[38;5;28;01mexcept\u001b[39;00m \u001b[38;5;167;01mBaseException\u001b[39;00m \u001b[38;5;28;01mas\u001b[39;00m exc:\n\u001b[1;32m     60\u001b[0m     \u001b[38;5;28mself\u001b[39m\u001b[38;5;241m.\u001b[39mfuture\u001b[38;5;241m.\u001b[39mset_exception(exc)\n",
      "Cell \u001b[0;32mIn[64], line 11\u001b[0m, in \u001b[0;36mprocess_noise\u001b[0;34m(model_name, noise, data)\u001b[0m\n\u001b[1;32m      9\u001b[0m grid_search_res \u001b[38;5;241m=\u001b[39m grid_search(X_train, Y_train, \u001b[38;5;124m'\u001b[39m\u001b[38;5;124mrf\u001b[39m\u001b[38;5;124m'\u001b[39m)\n\u001b[1;32m     10\u001b[0m balanced_ac_score \u001b[38;5;241m=\u001b[39m balanced_accuracy_score(Y_test, grid_search_res\u001b[38;5;241m.\u001b[39mpredict(X_test))\n\u001b[0;32m---> 11\u001b[0m f1_scores \u001b[38;5;241m=\u001b[39m \u001b[43mf1_score\u001b[49m\u001b[43m(\u001b[49m\u001b[43mY_test\u001b[49m\u001b[43m,\u001b[49m\u001b[43m \u001b[49m\u001b[43mgrid_search_res\u001b[49m\u001b[38;5;241;43m.\u001b[39;49m\u001b[43mpredict\u001b[49m\u001b[43m(\u001b[49m\u001b[43mX_test\u001b[49m\u001b[43m)\u001b[49m\u001b[43m,\u001b[49m\u001b[43m \u001b[49m\u001b[43maverage\u001b[49m\u001b[38;5;241;43m=\u001b[39;49m\u001b[38;5;124;43m'\u001b[39;49m\u001b[38;5;124;43mf1_samples\u001b[39;49m\u001b[38;5;124;43m'\u001b[39;49m\u001b[43m)\u001b[49m\n\u001b[1;32m     13\u001b[0m \u001b[38;5;66;03m# show results\u001b[39;00m\n\u001b[1;32m     14\u001b[0m \u001b[38;5;28;01mwith\u001b[39;00m print_lock:\n",
      "File \u001b[0;32m~/mambaforge/envs/statistical/lib/python3.12/site-packages/sklearn/utils/_param_validation.py:203\u001b[0m, in \u001b[0;36mvalidate_params.<locals>.decorator.<locals>.wrapper\u001b[0;34m(*args, **kwargs)\u001b[0m\n\u001b[1;32m    200\u001b[0m to_ignore \u001b[38;5;241m+\u001b[39m\u001b[38;5;241m=\u001b[39m [\u001b[38;5;124m\"\u001b[39m\u001b[38;5;124mself\u001b[39m\u001b[38;5;124m\"\u001b[39m, \u001b[38;5;124m\"\u001b[39m\u001b[38;5;124mcls\u001b[39m\u001b[38;5;124m\"\u001b[39m]\n\u001b[1;32m    201\u001b[0m params \u001b[38;5;241m=\u001b[39m {k: v \u001b[38;5;28;01mfor\u001b[39;00m k, v \u001b[38;5;129;01min\u001b[39;00m params\u001b[38;5;241m.\u001b[39marguments\u001b[38;5;241m.\u001b[39mitems() \u001b[38;5;28;01mif\u001b[39;00m k \u001b[38;5;129;01mnot\u001b[39;00m \u001b[38;5;129;01min\u001b[39;00m to_ignore}\n\u001b[0;32m--> 203\u001b[0m \u001b[43mvalidate_parameter_constraints\u001b[49m\u001b[43m(\u001b[49m\n\u001b[1;32m    204\u001b[0m \u001b[43m    \u001b[49m\u001b[43mparameter_constraints\u001b[49m\u001b[43m,\u001b[49m\u001b[43m \u001b[49m\u001b[43mparams\u001b[49m\u001b[43m,\u001b[49m\u001b[43m \u001b[49m\u001b[43mcaller_name\u001b[49m\u001b[38;5;241;43m=\u001b[39;49m\u001b[43mfunc\u001b[49m\u001b[38;5;241;43m.\u001b[39;49m\u001b[38;5;18;43m__qualname__\u001b[39;49m\n\u001b[1;32m    205\u001b[0m \u001b[43m\u001b[49m\u001b[43m)\u001b[49m\n\u001b[1;32m    207\u001b[0m \u001b[38;5;28;01mtry\u001b[39;00m:\n\u001b[1;32m    208\u001b[0m     \u001b[38;5;28;01mwith\u001b[39;00m config_context(\n\u001b[1;32m    209\u001b[0m         skip_parameter_validation\u001b[38;5;241m=\u001b[39m(\n\u001b[1;32m    210\u001b[0m             prefer_skip_nested_validation \u001b[38;5;129;01mor\u001b[39;00m global_skip_validation\n\u001b[1;32m    211\u001b[0m         )\n\u001b[1;32m    212\u001b[0m     ):\n",
      "File \u001b[0;32m~/mambaforge/envs/statistical/lib/python3.12/site-packages/sklearn/utils/_param_validation.py:95\u001b[0m, in \u001b[0;36mvalidate_parameter_constraints\u001b[0;34m(parameter_constraints, params, caller_name)\u001b[0m\n\u001b[1;32m     89\u001b[0m \u001b[38;5;28;01melse\u001b[39;00m:\n\u001b[1;32m     90\u001b[0m     constraints_str \u001b[38;5;241m=\u001b[39m (\n\u001b[1;32m     91\u001b[0m         \u001b[38;5;124mf\u001b[39m\u001b[38;5;124m\"\u001b[39m\u001b[38;5;132;01m{\u001b[39;00m\u001b[38;5;124m'\u001b[39m\u001b[38;5;124m, \u001b[39m\u001b[38;5;124m'\u001b[39m\u001b[38;5;241m.\u001b[39mjoin([\u001b[38;5;28mstr\u001b[39m(c)\u001b[38;5;250m \u001b[39m\u001b[38;5;28;01mfor\u001b[39;00m\u001b[38;5;250m \u001b[39mc\u001b[38;5;250m \u001b[39m\u001b[38;5;129;01min\u001b[39;00m\u001b[38;5;250m \u001b[39mconstraints[:\u001b[38;5;241m-\u001b[39m\u001b[38;5;241m1\u001b[39m]])\u001b[38;5;132;01m}\u001b[39;00m\u001b[38;5;124m or\u001b[39m\u001b[38;5;124m\"\u001b[39m\n\u001b[1;32m     92\u001b[0m         \u001b[38;5;124mf\u001b[39m\u001b[38;5;124m\"\u001b[39m\u001b[38;5;124m \u001b[39m\u001b[38;5;132;01m{\u001b[39;00mconstraints[\u001b[38;5;241m-\u001b[39m\u001b[38;5;241m1\u001b[39m]\u001b[38;5;132;01m}\u001b[39;00m\u001b[38;5;124m\"\u001b[39m\n\u001b[1;32m     93\u001b[0m     )\n\u001b[0;32m---> 95\u001b[0m \u001b[38;5;28;01mraise\u001b[39;00m InvalidParameterError(\n\u001b[1;32m     96\u001b[0m     \u001b[38;5;124mf\u001b[39m\u001b[38;5;124m\"\u001b[39m\u001b[38;5;124mThe \u001b[39m\u001b[38;5;132;01m{\u001b[39;00mparam_name\u001b[38;5;132;01m!r}\u001b[39;00m\u001b[38;5;124m parameter of \u001b[39m\u001b[38;5;132;01m{\u001b[39;00mcaller_name\u001b[38;5;132;01m}\u001b[39;00m\u001b[38;5;124m must be\u001b[39m\u001b[38;5;124m\"\u001b[39m\n\u001b[1;32m     97\u001b[0m     \u001b[38;5;124mf\u001b[39m\u001b[38;5;124m\"\u001b[39m\u001b[38;5;124m \u001b[39m\u001b[38;5;132;01m{\u001b[39;00mconstraints_str\u001b[38;5;132;01m}\u001b[39;00m\u001b[38;5;124m. Got \u001b[39m\u001b[38;5;132;01m{\u001b[39;00mparam_val\u001b[38;5;132;01m!r}\u001b[39;00m\u001b[38;5;124m instead.\u001b[39m\u001b[38;5;124m\"\u001b[39m\n\u001b[1;32m     98\u001b[0m )\n",
      "\u001b[0;31mInvalidParameterError\u001b[0m: The 'average' parameter of f1_score must be a str among {'micro', 'samples', 'macro', 'weighted', 'binary'} or None. Got 'f1_samples' instead."
     ]
    }
   ],
   "source": [
    "%%time\n",
    "\n",
    "main_parallel('rf')"
   ]
  },
  {
   "cell_type": "code",
   "execution_count": 67,
   "metadata": {},
   "outputs": [],
   "source": [
    "# change the stratified kfold to 5 in the grid search\n",
    "stratified_k_fold = StratifiedKFold(n_splits=3, shuffle=True, random_state=random_state)"
   ]
  },
  {
   "cell_type": "code",
   "execution_count": 68,
   "metadata": {},
   "outputs": [
    {
     "name": "stderr",
     "output_type": "stream",
     "text": [
      "2024-04-25 16:44:00,341 - INFO - Starting main function with model_name: rf\n",
      "2024-04-25 16:44:00,341 - INFO - Submitting task for noise level: 0\n",
      "2024-04-25 16:44:00,347 - INFO - Submitting task for noise level: 0.2\n",
      "2024-04-25 16:44:00,349 - INFO - Submitting task for noise level: 0.4\n",
      "2024-04-25 16:44:00,361 - INFO - Submitting task for noise level: 0.6\n",
      "2024-04-25 16:44:00,372 - INFO - Submitting task for noise level: 0.8\n"
     ]
    },
    {
     "ename": "InvalidParameterError",
     "evalue": "The 'average' parameter of f1_score must be a str among {'micro', 'samples', 'macro', 'weighted', 'binary'} or None. Got 'f1_samples' instead.",
     "output_type": "error",
     "traceback": [
      "\u001b[0;31m---------------------------------------------------------------------------\u001b[0m",
      "\u001b[0;31mInvalidParameterError\u001b[0m                     Traceback (most recent call last)",
      "File \u001b[0;32m<timed eval>:1\u001b[0m\n",
      "Cell \u001b[0;32mIn[65], line 13\u001b[0m, in \u001b[0;36mmain_parallel\u001b[0;34m(model_name, data)\u001b[0m\n\u001b[1;32m     11\u001b[0m results \u001b[38;5;241m=\u001b[39m []\n\u001b[1;32m     12\u001b[0m \u001b[38;5;28;01mfor\u001b[39;00m i, future \u001b[38;5;129;01min\u001b[39;00m \u001b[38;5;28menumerate\u001b[39m(concurrent\u001b[38;5;241m.\u001b[39mfutures\u001b[38;5;241m.\u001b[39mas_completed(futures)):\n\u001b[0;32m---> 13\u001b[0m     result \u001b[38;5;241m=\u001b[39m \u001b[43mfuture\u001b[49m\u001b[38;5;241;43m.\u001b[39;49m\u001b[43mresult\u001b[49m\u001b[43m(\u001b[49m\u001b[43m)\u001b[49m\n\u001b[1;32m     14\u001b[0m     results\u001b[38;5;241m.\u001b[39mappend(result)\n\u001b[1;32m     15\u001b[0m     logging\u001b[38;5;241m.\u001b[39minfo(\u001b[38;5;124mf\u001b[39m\u001b[38;5;124m'\u001b[39m\u001b[38;5;124mTask \u001b[39m\u001b[38;5;132;01m{\u001b[39;00mi\u001b[38;5;250m \u001b[39m\u001b[38;5;241m+\u001b[39m\u001b[38;5;250m \u001b[39m\u001b[38;5;241m1\u001b[39m\u001b[38;5;132;01m}\u001b[39;00m\u001b[38;5;124m completed with result: \u001b[39m\u001b[38;5;132;01m{\u001b[39;00mresult\u001b[38;5;132;01m}\u001b[39;00m\u001b[38;5;124m'\u001b[39m)\n",
      "File \u001b[0;32m~/mambaforge/envs/statistical/lib/python3.12/concurrent/futures/_base.py:449\u001b[0m, in \u001b[0;36mFuture.result\u001b[0;34m(self, timeout)\u001b[0m\n\u001b[1;32m    447\u001b[0m     \u001b[38;5;28;01mraise\u001b[39;00m CancelledError()\n\u001b[1;32m    448\u001b[0m \u001b[38;5;28;01melif\u001b[39;00m \u001b[38;5;28mself\u001b[39m\u001b[38;5;241m.\u001b[39m_state \u001b[38;5;241m==\u001b[39m FINISHED:\n\u001b[0;32m--> 449\u001b[0m     \u001b[38;5;28;01mreturn\u001b[39;00m \u001b[38;5;28;43mself\u001b[39;49m\u001b[38;5;241;43m.\u001b[39;49m\u001b[43m__get_result\u001b[49m\u001b[43m(\u001b[49m\u001b[43m)\u001b[49m\n\u001b[1;32m    451\u001b[0m \u001b[38;5;28mself\u001b[39m\u001b[38;5;241m.\u001b[39m_condition\u001b[38;5;241m.\u001b[39mwait(timeout)\n\u001b[1;32m    453\u001b[0m \u001b[38;5;28;01mif\u001b[39;00m \u001b[38;5;28mself\u001b[39m\u001b[38;5;241m.\u001b[39m_state \u001b[38;5;129;01min\u001b[39;00m [CANCELLED, CANCELLED_AND_NOTIFIED]:\n",
      "File \u001b[0;32m~/mambaforge/envs/statistical/lib/python3.12/concurrent/futures/_base.py:401\u001b[0m, in \u001b[0;36mFuture.__get_result\u001b[0;34m(self)\u001b[0m\n\u001b[1;32m    399\u001b[0m \u001b[38;5;28;01mif\u001b[39;00m \u001b[38;5;28mself\u001b[39m\u001b[38;5;241m.\u001b[39m_exception:\n\u001b[1;32m    400\u001b[0m     \u001b[38;5;28;01mtry\u001b[39;00m:\n\u001b[0;32m--> 401\u001b[0m         \u001b[38;5;28;01mraise\u001b[39;00m \u001b[38;5;28mself\u001b[39m\u001b[38;5;241m.\u001b[39m_exception\n\u001b[1;32m    402\u001b[0m     \u001b[38;5;28;01mfinally\u001b[39;00m:\n\u001b[1;32m    403\u001b[0m         \u001b[38;5;66;03m# Break a reference cycle with the exception in self._exception\u001b[39;00m\n\u001b[1;32m    404\u001b[0m         \u001b[38;5;28mself\u001b[39m \u001b[38;5;241m=\u001b[39m \u001b[38;5;28;01mNone\u001b[39;00m\n",
      "File \u001b[0;32m~/mambaforge/envs/statistical/lib/python3.12/concurrent/futures/thread.py:58\u001b[0m, in \u001b[0;36m_WorkItem.run\u001b[0;34m(self)\u001b[0m\n\u001b[1;32m     55\u001b[0m     \u001b[38;5;28;01mreturn\u001b[39;00m\n\u001b[1;32m     57\u001b[0m \u001b[38;5;28;01mtry\u001b[39;00m:\n\u001b[0;32m---> 58\u001b[0m     result \u001b[38;5;241m=\u001b[39m \u001b[38;5;28;43mself\u001b[39;49m\u001b[38;5;241;43m.\u001b[39;49m\u001b[43mfn\u001b[49m\u001b[43m(\u001b[49m\u001b[38;5;241;43m*\u001b[39;49m\u001b[38;5;28;43mself\u001b[39;49m\u001b[38;5;241;43m.\u001b[39;49m\u001b[43margs\u001b[49m\u001b[43m,\u001b[49m\u001b[43m \u001b[49m\u001b[38;5;241;43m*\u001b[39;49m\u001b[38;5;241;43m*\u001b[39;49m\u001b[38;5;28;43mself\u001b[39;49m\u001b[38;5;241;43m.\u001b[39;49m\u001b[43mkwargs\u001b[49m\u001b[43m)\u001b[49m\n\u001b[1;32m     59\u001b[0m \u001b[38;5;28;01mexcept\u001b[39;00m \u001b[38;5;167;01mBaseException\u001b[39;00m \u001b[38;5;28;01mas\u001b[39;00m exc:\n\u001b[1;32m     60\u001b[0m     \u001b[38;5;28mself\u001b[39m\u001b[38;5;241m.\u001b[39mfuture\u001b[38;5;241m.\u001b[39mset_exception(exc)\n",
      "Cell \u001b[0;32mIn[64], line 11\u001b[0m, in \u001b[0;36mprocess_noise\u001b[0;34m(model_name, noise, data)\u001b[0m\n\u001b[1;32m      9\u001b[0m grid_search_res \u001b[38;5;241m=\u001b[39m grid_search(X_train, Y_train, \u001b[38;5;124m'\u001b[39m\u001b[38;5;124mrf\u001b[39m\u001b[38;5;124m'\u001b[39m)\n\u001b[1;32m     10\u001b[0m balanced_ac_score \u001b[38;5;241m=\u001b[39m balanced_accuracy_score(Y_test, grid_search_res\u001b[38;5;241m.\u001b[39mpredict(X_test))\n\u001b[0;32m---> 11\u001b[0m f1_scores \u001b[38;5;241m=\u001b[39m \u001b[43mf1_score\u001b[49m\u001b[43m(\u001b[49m\u001b[43mY_test\u001b[49m\u001b[43m,\u001b[49m\u001b[43m \u001b[49m\u001b[43mgrid_search_res\u001b[49m\u001b[38;5;241;43m.\u001b[39;49m\u001b[43mpredict\u001b[49m\u001b[43m(\u001b[49m\u001b[43mX_test\u001b[49m\u001b[43m)\u001b[49m\u001b[43m,\u001b[49m\u001b[43m \u001b[49m\u001b[43maverage\u001b[49m\u001b[38;5;241;43m=\u001b[39;49m\u001b[38;5;124;43m'\u001b[39;49m\u001b[38;5;124;43mf1_samples\u001b[39;49m\u001b[38;5;124;43m'\u001b[39;49m\u001b[43m)\u001b[49m\n\u001b[1;32m     13\u001b[0m \u001b[38;5;66;03m# show results\u001b[39;00m\n\u001b[1;32m     14\u001b[0m \u001b[38;5;28;01mwith\u001b[39;00m print_lock:\n",
      "File \u001b[0;32m~/mambaforge/envs/statistical/lib/python3.12/site-packages/sklearn/utils/_param_validation.py:203\u001b[0m, in \u001b[0;36mvalidate_params.<locals>.decorator.<locals>.wrapper\u001b[0;34m(*args, **kwargs)\u001b[0m\n\u001b[1;32m    200\u001b[0m to_ignore \u001b[38;5;241m+\u001b[39m\u001b[38;5;241m=\u001b[39m [\u001b[38;5;124m\"\u001b[39m\u001b[38;5;124mself\u001b[39m\u001b[38;5;124m\"\u001b[39m, \u001b[38;5;124m\"\u001b[39m\u001b[38;5;124mcls\u001b[39m\u001b[38;5;124m\"\u001b[39m]\n\u001b[1;32m    201\u001b[0m params \u001b[38;5;241m=\u001b[39m {k: v \u001b[38;5;28;01mfor\u001b[39;00m k, v \u001b[38;5;129;01min\u001b[39;00m params\u001b[38;5;241m.\u001b[39marguments\u001b[38;5;241m.\u001b[39mitems() \u001b[38;5;28;01mif\u001b[39;00m k \u001b[38;5;129;01mnot\u001b[39;00m \u001b[38;5;129;01min\u001b[39;00m to_ignore}\n\u001b[0;32m--> 203\u001b[0m \u001b[43mvalidate_parameter_constraints\u001b[49m\u001b[43m(\u001b[49m\n\u001b[1;32m    204\u001b[0m \u001b[43m    \u001b[49m\u001b[43mparameter_constraints\u001b[49m\u001b[43m,\u001b[49m\u001b[43m \u001b[49m\u001b[43mparams\u001b[49m\u001b[43m,\u001b[49m\u001b[43m \u001b[49m\u001b[43mcaller_name\u001b[49m\u001b[38;5;241;43m=\u001b[39;49m\u001b[43mfunc\u001b[49m\u001b[38;5;241;43m.\u001b[39;49m\u001b[38;5;18;43m__qualname__\u001b[39;49m\n\u001b[1;32m    205\u001b[0m \u001b[43m\u001b[49m\u001b[43m)\u001b[49m\n\u001b[1;32m    207\u001b[0m \u001b[38;5;28;01mtry\u001b[39;00m:\n\u001b[1;32m    208\u001b[0m     \u001b[38;5;28;01mwith\u001b[39;00m config_context(\n\u001b[1;32m    209\u001b[0m         skip_parameter_validation\u001b[38;5;241m=\u001b[39m(\n\u001b[1;32m    210\u001b[0m             prefer_skip_nested_validation \u001b[38;5;129;01mor\u001b[39;00m global_skip_validation\n\u001b[1;32m    211\u001b[0m         )\n\u001b[1;32m    212\u001b[0m     ):\n",
      "File \u001b[0;32m~/mambaforge/envs/statistical/lib/python3.12/site-packages/sklearn/utils/_param_validation.py:95\u001b[0m, in \u001b[0;36mvalidate_parameter_constraints\u001b[0;34m(parameter_constraints, params, caller_name)\u001b[0m\n\u001b[1;32m     89\u001b[0m \u001b[38;5;28;01melse\u001b[39;00m:\n\u001b[1;32m     90\u001b[0m     constraints_str \u001b[38;5;241m=\u001b[39m (\n\u001b[1;32m     91\u001b[0m         \u001b[38;5;124mf\u001b[39m\u001b[38;5;124m\"\u001b[39m\u001b[38;5;132;01m{\u001b[39;00m\u001b[38;5;124m'\u001b[39m\u001b[38;5;124m, \u001b[39m\u001b[38;5;124m'\u001b[39m\u001b[38;5;241m.\u001b[39mjoin([\u001b[38;5;28mstr\u001b[39m(c)\u001b[38;5;250m \u001b[39m\u001b[38;5;28;01mfor\u001b[39;00m\u001b[38;5;250m \u001b[39mc\u001b[38;5;250m \u001b[39m\u001b[38;5;129;01min\u001b[39;00m\u001b[38;5;250m \u001b[39mconstraints[:\u001b[38;5;241m-\u001b[39m\u001b[38;5;241m1\u001b[39m]])\u001b[38;5;132;01m}\u001b[39;00m\u001b[38;5;124m or\u001b[39m\u001b[38;5;124m\"\u001b[39m\n\u001b[1;32m     92\u001b[0m         \u001b[38;5;124mf\u001b[39m\u001b[38;5;124m\"\u001b[39m\u001b[38;5;124m \u001b[39m\u001b[38;5;132;01m{\u001b[39;00mconstraints[\u001b[38;5;241m-\u001b[39m\u001b[38;5;241m1\u001b[39m]\u001b[38;5;132;01m}\u001b[39;00m\u001b[38;5;124m\"\u001b[39m\n\u001b[1;32m     93\u001b[0m     )\n\u001b[0;32m---> 95\u001b[0m \u001b[38;5;28;01mraise\u001b[39;00m InvalidParameterError(\n\u001b[1;32m     96\u001b[0m     \u001b[38;5;124mf\u001b[39m\u001b[38;5;124m\"\u001b[39m\u001b[38;5;124mThe \u001b[39m\u001b[38;5;132;01m{\u001b[39;00mparam_name\u001b[38;5;132;01m!r}\u001b[39;00m\u001b[38;5;124m parameter of \u001b[39m\u001b[38;5;132;01m{\u001b[39;00mcaller_name\u001b[38;5;132;01m}\u001b[39;00m\u001b[38;5;124m must be\u001b[39m\u001b[38;5;124m\"\u001b[39m\n\u001b[1;32m     97\u001b[0m     \u001b[38;5;124mf\u001b[39m\u001b[38;5;124m\"\u001b[39m\u001b[38;5;124m \u001b[39m\u001b[38;5;132;01m{\u001b[39;00mconstraints_str\u001b[38;5;132;01m}\u001b[39;00m\u001b[38;5;124m. Got \u001b[39m\u001b[38;5;132;01m{\u001b[39;00mparam_val\u001b[38;5;132;01m!r}\u001b[39;00m\u001b[38;5;124m instead.\u001b[39m\u001b[38;5;124m\"\u001b[39m\n\u001b[1;32m     98\u001b[0m )\n",
      "\u001b[0;31mInvalidParameterError\u001b[0m: The 'average' parameter of f1_score must be a str among {'micro', 'samples', 'macro', 'weighted', 'binary'} or None. Got 'f1_samples' instead."
     ]
    }
   ],
   "source": [
    "%%time\n",
    "\n",
    "main_parallel('rf')"
   ]
  },
  {
   "cell_type": "markdown",
   "metadata": {},
   "source": [
    "## Class separation with the 2 most important features"
   ]
  },
  {
   "cell_type": "code",
   "execution_count": null,
   "metadata": {},
   "outputs": [],
   "source": []
  }
 ],
 "metadata": {
  "kernelspec": {
   "display_name": "Python 3",
   "language": "python",
   "name": "python3"
  },
  "language_info": {
   "codemirror_mode": {
    "name": "ipython",
    "version": 3
   },
   "file_extension": ".py",
   "mimetype": "text/x-python",
   "name": "python",
   "nbconvert_exporter": "python",
   "pygments_lexer": "ipython3",
   "version": "3.12.2"
  }
 },
 "nbformat": 4,
 "nbformat_minor": 2
}
