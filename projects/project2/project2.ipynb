{
 "cells": [
  {
   "cell_type": "markdown",
   "metadata": {},
   "source": [
    "## Introduction"
   ]
  },
  {
   "cell_type": "markdown",
   "metadata": {},
   "source": [
    "### Parameters"
   ]
  },
  {
   "cell_type": "code",
   "execution_count": 98,
   "metadata": {},
   "outputs": [],
   "source": [
    "import pandas as pd\n",
    "import numpy as np\n",
    "import logging\n",
    "import concurrent.futures\n",
    "import matplotlib.pyplot as plt\n",
    "import seaborn as sns\n",
    "from sklearn.decomposition import PCA\n",
    "from sklearn.metrics import classification_report, balanced_accuracy_score, f1_score, confusion_matrix\n",
    "from sklearn.feature_selection import f_classif, mutual_info_classif, VarianceThreshold\n",
    "from sklearn.pipeline import Pipeline\n",
    "from sklearn.model_selection import train_test_split, GridSearchCV, StratifiedKFold\n",
    "from sklearn.metrics import balanced_accuracy_score, classification_report\n",
    "from sklearn.ensemble import RandomForestClassifier, GradientBoostingClassifier\n",
    "from sklearn.neural_network import MLPClassifier\n",
    "from sklearn.dummy import DummyClassifier\n",
    "import plotly.express as px\n",
    "from sklearn.metrics import confusion_matrix, ConfusionMatrixDisplay\n",
    "from sklearn.feature_selection import SelectFromModel\n",
    "\n",
    "%matplotlib inline\n",
    "np.random.seed(0)\n",
    "random_state = 42\n",
    "\n",
    "logging.basicConfig(level=logging.INFO, format='%(asctime)s - %(levelname)s - %(message)s')"
   ]
  },
  {
   "cell_type": "code",
   "execution_count": 99,
   "metadata": {},
   "outputs": [],
   "source": [
    "noises = [0, 0.2, 0.4, 0.6, 0.8]\n",
    "\n",
    "n_estimators = [15, 30, 50, 75, 100, 150, 200, 300, 350, 400]\n",
    "max_depth = [None, 5, 10]\n",
    "min_samples_split = [2, 5, 10]\n",
    "learning_rate = [0.01, 0.1, 1]\n",
    "\n",
    "stratified_k_fold = StratifiedKFold(n_splits=5, shuffle=True, random_state=random_state)\n",
    "variance_threshold = VarianceThreshold()\n",
    "\n",
    "model_name_map = { 'rf': 'Random Forest', 'gb': 'Gradient Boosting' }\n",
    "\n",
    "rf = RandomForestClassifier(class_weight='balanced', random_state=random_state)\n",
    "gb = GradientBoostingClassifier(random_state=random_state)\n",
    "dummy = DummyClassifier(strategy='most_frequent')\n",
    "\n",
    "selector = SelectFromModel(rf, threshold='mean')"
   ]
  },
  {
   "cell_type": "markdown",
   "metadata": {},
   "source": [
    "### Datasets splits and exploratory analysis"
   ]
  },
  {
   "cell_type": "code",
   "execution_count": 100,
   "metadata": {},
   "outputs": [],
   "source": [
    "# read cancer data\n",
    "X_cancer = pd.read_csv('../data/TCGAdata.txt', delim_whitespace=True, index_col=0, header=0)\n",
    "Y_cancer = pd.read_csv('../data/TCGAlabels.txt', delim_whitespace=True, index_col=0, header=0)\n",
    "\n",
    "Y_cancer['x'].unique()\n",
    "# assign a numbered label for Y\n",
    "label_map_cancer = {'GBM': 0, 'BC': 1, 'OV': 2, 'LU': 3, 'KI': 4, 'U': 5}\n",
    "Y_cancer['x'] = Y_cancer['x'].map(label_map_cancer)"
   ]
  },
  {
   "cell_type": "code",
   "execution_count": 101,
   "metadata": {},
   "outputs": [],
   "source": [
    "# read cats and dogs data\n",
    "X_cats_dogs = pd.read_csv('../data/CATSnDOGS.csv')\n",
    "Y_cats_dogs = pd.read_csv('../data/CATSnDOGSlabels.csv')"
   ]
  },
  {
   "cell_type": "code",
   "execution_count": 102,
   "metadata": {},
   "outputs": [],
   "source": [
    "def splits(X, Y, gaussian_noise_factor=0, test_size=0.2):\n",
    "    ''' Split into train and test. Includes noise and mislabeling. '''\n",
    "    noise = np.random.normal(0, 1, X.shape)\n",
    "    X = X + gaussian_noise_factor * noise\n",
    "    X_train, X_test, Y_train, Y_test = train_test_split(X, Y, test_size=test_size, random_state=random_state, stratify=Y)\n",
    "    \n",
    "    return X_train, X_test, Y_train, Y_test"
   ]
  },
  {
   "cell_type": "code",
   "execution_count": 103,
   "metadata": {},
   "outputs": [
    {
     "data": {
      "text/html": [
       "<div>\n",
       "<style scoped>\n",
       "    .dataframe tbody tr th:only-of-type {\n",
       "        vertical-align: middle;\n",
       "    }\n",
       "\n",
       "    .dataframe tbody tr th {\n",
       "        vertical-align: top;\n",
       "    }\n",
       "\n",
       "    .dataframe thead th {\n",
       "        text-align: right;\n",
       "    }\n",
       "</style>\n",
       "<table border=\"1\" class=\"dataframe\">\n",
       "  <thead>\n",
       "    <tr style=\"text-align: right;\">\n",
       "      <th></th>\n",
       "      <th>V1</th>\n",
       "      <th>V2</th>\n",
       "      <th>V3</th>\n",
       "      <th>V4</th>\n",
       "      <th>V5</th>\n",
       "      <th>V6</th>\n",
       "      <th>V7</th>\n",
       "      <th>V8</th>\n",
       "      <th>V9</th>\n",
       "      <th>V10</th>\n",
       "      <th>...</th>\n",
       "      <th>V4087</th>\n",
       "      <th>V4088</th>\n",
       "      <th>V4089</th>\n",
       "      <th>V4090</th>\n",
       "      <th>V4091</th>\n",
       "      <th>V4092</th>\n",
       "      <th>V4093</th>\n",
       "      <th>V4094</th>\n",
       "      <th>V4095</th>\n",
       "      <th>V4096</th>\n",
       "    </tr>\n",
       "  </thead>\n",
       "  <tbody>\n",
       "    <tr>\n",
       "      <th>0</th>\n",
       "      <td>23</td>\n",
       "      <td>116</td>\n",
       "      <td>227</td>\n",
       "      <td>149</td>\n",
       "      <td>49</td>\n",
       "      <td>131</td>\n",
       "      <td>31</td>\n",
       "      <td>31</td>\n",
       "      <td>86</td>\n",
       "      <td>86</td>\n",
       "      <td>...</td>\n",
       "      <td>59</td>\n",
       "      <td>116</td>\n",
       "      <td>102</td>\n",
       "      <td>78</td>\n",
       "      <td>102</td>\n",
       "      <td>102</td>\n",
       "      <td>116</td>\n",
       "      <td>139</td>\n",
       "      <td>152</td>\n",
       "      <td>166</td>\n",
       "    </tr>\n",
       "    <tr>\n",
       "      <th>1</th>\n",
       "      <td>247</td>\n",
       "      <td>247</td>\n",
       "      <td>245</td>\n",
       "      <td>245</td>\n",
       "      <td>245</td>\n",
       "      <td>245</td>\n",
       "      <td>245</td>\n",
       "      <td>235</td>\n",
       "      <td>235</td>\n",
       "      <td>223</td>\n",
       "      <td>...</td>\n",
       "      <td>110</td>\n",
       "      <td>100</td>\n",
       "      <td>100</td>\n",
       "      <td>70</td>\n",
       "      <td>66</td>\n",
       "      <td>70</td>\n",
       "      <td>70</td>\n",
       "      <td>70</td>\n",
       "      <td>70</td>\n",
       "      <td>78</td>\n",
       "    </tr>\n",
       "    <tr>\n",
       "      <th>2</th>\n",
       "      <td>77</td>\n",
       "      <td>77</td>\n",
       "      <td>77</td>\n",
       "      <td>87</td>\n",
       "      <td>87</td>\n",
       "      <td>94</td>\n",
       "      <td>94</td>\n",
       "      <td>94</td>\n",
       "      <td>105</td>\n",
       "      <td>87</td>\n",
       "      <td>...</td>\n",
       "      <td>116</td>\n",
       "      <td>125</td>\n",
       "      <td>128</td>\n",
       "      <td>128</td>\n",
       "      <td>128</td>\n",
       "      <td>128</td>\n",
       "      <td>125</td>\n",
       "      <td>125</td>\n",
       "      <td>116</td>\n",
       "      <td>116</td>\n",
       "    </tr>\n",
       "    <tr>\n",
       "      <th>3</th>\n",
       "      <td>32</td>\n",
       "      <td>28</td>\n",
       "      <td>28</td>\n",
       "      <td>28</td>\n",
       "      <td>28</td>\n",
       "      <td>28</td>\n",
       "      <td>28</td>\n",
       "      <td>28</td>\n",
       "      <td>28</td>\n",
       "      <td>28</td>\n",
       "      <td>...</td>\n",
       "      <td>73</td>\n",
       "      <td>73</td>\n",
       "      <td>73</td>\n",
       "      <td>79</td>\n",
       "      <td>108</td>\n",
       "      <td>131</td>\n",
       "      <td>148</td>\n",
       "      <td>148</td>\n",
       "      <td>148</td>\n",
       "      <td>131</td>\n",
       "    </tr>\n",
       "    <tr>\n",
       "      <th>4</th>\n",
       "      <td>3</td>\n",
       "      <td>44</td>\n",
       "      <td>112</td>\n",
       "      <td>136</td>\n",
       "      <td>120</td>\n",
       "      <td>120</td>\n",
       "      <td>125</td>\n",
       "      <td>122</td>\n",
       "      <td>129</td>\n",
       "      <td>133</td>\n",
       "      <td>...</td>\n",
       "      <td>186</td>\n",
       "      <td>184</td>\n",
       "      <td>181</td>\n",
       "      <td>180</td>\n",
       "      <td>179</td>\n",
       "      <td>173</td>\n",
       "      <td>170</td>\n",
       "      <td>192</td>\n",
       "      <td>119</td>\n",
       "      <td>14</td>\n",
       "    </tr>\n",
       "  </tbody>\n",
       "</table>\n",
       "<p>5 rows × 4096 columns</p>\n",
       "</div>"
      ],
      "text/plain": [
       "    V1   V2   V3   V4   V5   V6   V7   V8   V9  V10  ...  V4087  V4088  V4089  \\\n",
       "0   23  116  227  149   49  131   31   31   86   86  ...     59    116    102   \n",
       "1  247  247  245  245  245  245  245  235  235  223  ...    110    100    100   \n",
       "2   77   77   77   87   87   94   94   94  105   87  ...    116    125    128   \n",
       "3   32   28   28   28   28   28   28   28   28   28  ...     73     73     73   \n",
       "4    3   44  112  136  120  120  125  122  129  133  ...    186    184    181   \n",
       "\n",
       "   V4090  V4091  V4092  V4093  V4094  V4095  V4096  \n",
       "0     78    102    102    116    139    152    166  \n",
       "1     70     66     70     70     70     70     78  \n",
       "2    128    128    128    125    125    116    116  \n",
       "3     79    108    131    148    148    148    131  \n",
       "4    180    179    173    170    192    119     14  \n",
       "\n",
       "[5 rows x 4096 columns]"
      ]
     },
     "execution_count": 103,
     "metadata": {},
     "output_type": "execute_result"
    }
   ],
   "source": [
    "X_cats_dogs.head()"
   ]
  },
  {
   "cell_type": "code",
   "execution_count": 104,
   "metadata": {},
   "outputs": [
    {
     "data": {
      "image/png": "[encoded data removed]",
      "text/plain": [
       "<Figure size 1200x600 with 4 Axes>"
      ]
     },
     "metadata": {},
     "output_type": "display_data"
    }
   ],
   "source": [
    "def rotateM(x):\n",
    "    return np.transpose(np.apply_along_axis(np.flip, 0, x))\n",
    "\n",
    "def plot_images(indices, data, category, cmap='gray'):\n",
    "    for idx, i in enumerate(indices):\n",
    "        plt.subplot(2, 2, idx + 1 + category * 2)\n",
    "        plt.imshow(rotateM(data.iloc[i, :].values.reshape(64, 64)), cmap=cmap)\n",
    "        plt.xlabel('')\n",
    "        plt.ylabel('')\n",
    "\n",
    "# random selections\n",
    "ssc = np.random.choice(np.where(Y_cats_dogs == 0)[0], 2, replace=False)\n",
    "ssd = np.random.choice(np.where(Y_cats_dogs == 1)[0], 2, replace=False)\n",
    "\n",
    "plt.figure(figsize=(12, 6))\n",
    "plot_images(ssc, X_cats_dogs, category=0)\n",
    "plot_images(ssd, X_cats_dogs, category=1)\n",
    "plt.show()"
   ]
  },
  {
   "cell_type": "markdown",
   "metadata": {},
   "source": [
    "## Setup"
   ]
  },
  {
   "cell_type": "markdown",
   "metadata": {},
   "source": [
    "### Pipeline and grid search"
   ]
  },
  {
   "cell_type": "code",
   "execution_count": 105,
   "metadata": {},
   "outputs": [],
   "source": [
    "# Parameter grid for Random Forest (bagging)\n",
    "params_rf = {\n",
    "    'classifier__n_estimators': n_estimators,\n",
    "    # 'classifier__max_depth': max_depth,\n",
    "    # 'classifier__min_samples_split': min_samples_split,\n",
    "    # 'classifier__max_features': ['sqrt', 'log2'],\n",
    "}\n",
    "\n",
    "# Parameter grid for Gradient Boosting\n",
    "params_gb = {\n",
    "    'classifier__n_estimators': n_estimators,\n",
    "    'classifier__max_depth': max_depth,\n",
    "    'classifier__min_samples_split': min_samples_split,\n",
    "    'classifier__learning_rate': learning_rate,\n",
    "    \n",
    "    # TO DO: see if the paramters below are useful\n",
    "    'classifier__subsample': [0.8, 1.0],\n",
    "    'classifier__colsample_bytree': [0.8, 1.0],\n",
    "    'classifier__min_samples_leaf': [1, 2, 4],\n",
    "    'classifier__reg_alpha': [0, 0.1, 0.5],\n",
    "    'classifier__reg_lambda': [0, 0.1, 0.5]\n",
    "}\n",
    "\n",
    "pipeline = Pipeline([\n",
    "    ('variance_threshold', VarianceThreshold()),\n",
    "    #('feature_selection', selector),\n",
    "    ('classifier', rf),\n",
    "])\n",
    "\n",
    "def grid_search(X_train, Y_train, model: str):\n",
    "    if model == 'rf':\n",
    "        #pipeline.named_steps['feature_selection'].estimator_ = rf\n",
    "        pipeline.named_steps['classifier'] = rf\n",
    "        params = params_rf\n",
    "    elif model == 'gb':\n",
    "        #pipeline.named_steps['feature_selection'].estimator_ = gb\n",
    "        pipeline.named_steps['classifier'] = gb\n",
    "        params = params_gb\n",
    "    else:\n",
    "        params = {}\n",
    "    \n",
    "    grid_search_res = GridSearchCV(pipeline, params, cv=stratified_k_fold, scoring='balanced_accuracy', n_jobs=-1)\n",
    "    grid_search_res.fit(X_train, np.ravel(Y_train))\n",
    "        \n",
    "    return grid_search_res"
   ]
  },
  {
   "cell_type": "markdown",
   "metadata": {},
   "source": [
    "### Plots and displays"
   ]
  },
  {
   "cell_type": "code",
   "execution_count": 106,
   "metadata": {},
   "outputs": [],
   "source": [
    "def plot_learning_trend(grid_search_res, model_name, noise):\n",
    "    results = grid_search_res.cv_results_\n",
    "    \n",
    "    # mean test scores for each estimator with the same value of n_estimators\n",
    "    mean_scores = []\n",
    "    for n in n_estimators:\n",
    "        mask = results['param_classifier__n_estimators'] == n\n",
    "        if np.any(mask):\n",
    "            mean_scores.append(np.mean(results['mean_test_score'][mask]))\n",
    "        else:\n",
    "            mean_scores.append(np.nan)\n",
    "    \n",
    "    plt.figure(figsize=(8, 6))\n",
    "    plt.plot(n_estimators, mean_scores, marker='o')\n",
    "    plt.xlabel('n estimators')\n",
    "    plt.ylabel('cv score')\n",
    "    plt.title(f'Learning trend for different n_estimators ({model_name_map[model_name]}, {noise * 100}% noise)')\n",
    "    plt.grid(True)\n",
    "    plt.savefig(f\"imgs/{model_name}_plot_n_estimators_noise_{noise}.png\")\n",
    "    plt.show()\n",
    "    \n",
    "def plot_confusion_matrix(Y_test, Y_test_pred, labels, model_name, noise):\n",
    "  # confusion matrix and display\n",
    "  cm = confusion_matrix(Y_test, Y_test_pred)\n",
    "  cm_display = ConfusionMatrixDisplay(confusion_matrix=cm, display_labels=labels)\n",
    "  # plot the confusion matrix\n",
    "  cm_display.plot()\n",
    "  plt.title(f'Confusion matrix ({model_name_map[model_name]}, {noise * 100}% noise)')\n",
    "  plt.savefig(f\"imgs/{model_name}_confusion_matrix_noise_{noise}.png\")\n",
    "  plt.show()\n",
    "  \n",
    "def show_classification_report(X_test, Y_test, grid_search_res, model_name: str, noise):\n",
    "  Y_test_pred = grid_search_res.predict(X_test)\n",
    "  best_params = grid_search_res.best_params_\n",
    "  print(f\"Classification Report \\nOptimal parameters {best_params} ({model_name_map[model_name]}, noise: {noise * 100}%)\\n\",\n",
    "      classification_report(Y_test, Y_test_pred)) \n",
    "\n",
    "def show_feature_importance(grid_search_res, X, model_name: str, noise: float):\n",
    "    # feature importances from the best estimator\n",
    "    best_estimator = grid_search_res.best_estimator_.named_steps['classifier']\n",
    "    feature_importances = best_estimator.feature_importances_\n",
    "    # feature names for features kept after filtering\n",
    "    variance_threshold = grid_search_res.best_estimator_.named_steps['variance_threshold']\n",
    "    feature_names = X.columns[variance_threshold.get_support()]\n",
    "    print(f'Length of feature_names: {len(feature_names)}')\n",
    "    print(f'Length of feature_importances: {len(feature_importances)}')\n",
    "\n",
    "    # dataframe for feature importances\n",
    "    feature_importance_df = pd.DataFrame({'feature': feature_names, 'importance': feature_importances})\n",
    "    top_10_features = feature_importance_df.sort_values('importance', ascending=False).head(10)\n",
    "\n",
    "    plt.figure(figsize=(8, 6))\n",
    "    plt.bar(top_10_features['feature'], top_10_features['importance'], color='steelblue')\n",
    "    plt.xlabel('Feature')\n",
    "    plt.ylabel('Importance')\n",
    "    plt.title(f'Top 10 Features ({model_name}, {noise * 100:.1f}% Noise)')\n",
    "    plt.xticks(rotation=45, ha='right')\n",
    "    plt.savefig(f\"imgs/{model_name}_top_10_features_noise_{noise}.png\", bbox_inches='tight')\n",
    "    plt.show()"
   ]
  },
  {
   "cell_type": "markdown",
   "metadata": {},
   "source": [
    "### Main processes"
   ]
  },
  {
   "cell_type": "code",
   "execution_count": 107,
   "metadata": {},
   "outputs": [],
   "source": [
    "def process_noise(model_name, noise):\n",
    "    # split dataset\n",
    "    X_train, X_test, Y_train, Y_test = splits(X_cancer, Y_cancer, noise)\n",
    "    # grid search and metrics\n",
    "    grid_search_res = grid_search(X_train, Y_train, 'rf')\n",
    "    balanced_ac_score = balanced_accuracy_score(Y_test, grid_search_res.predict(X_test))\n",
    "    f1_scores = f1_score(Y_test, grid_search_res.predict(X_test), average='weighted')\n",
    "    # plots\n",
    "    #plot_learning_trend(grid_search_res, model_name, noise)\n",
    "    #show_classification_report(X_test, Y_test, grid_search_res, model_name, noise)\n",
    "    #plot_confusion_matrix(Y_test, grid_search_res.predict(X_test), Y_cancer['x'].unique(), model_name, noise)\n",
    "    show_feature_importance(grid_search_res, X_train, model_name, noise)\n",
    "    \n",
    "    return {'noise': noise, 'grid_search_res': grid_search_res, 'balanced_ac_score': balanced_ac_score, 'f1_score': f1_scores}"
   ]
  },
  {
   "cell_type": "code",
   "execution_count": 108,
   "metadata": {},
   "outputs": [],
   "source": [
    "def main(model_name: str):\n",
    "    logging.info(f'Starting main function with model_name: {model_name}')\n",
    "    \n",
    "    with concurrent.futures.ThreadPoolExecutor() as executor:\n",
    "        futures = []\n",
    "        for noise in noises:\n",
    "            logging.info(f'Submitting task for noise level: {noise}')\n",
    "            future = executor.submit(process_noise, model_name, noise)\n",
    "            futures.append(future)\n",
    "        \n",
    "        results = []\n",
    "        for i, future in enumerate(concurrent.futures.as_completed(futures)):\n",
    "            result = future.result()\n",
    "            results.append(result)\n",
    "            logging.info(f'Task {i + 1} completed with result: {result}')\n",
    "    \n",
    "    logging.info('All tasks completed.')"
   ]
  },
  {
   "cell_type": "markdown",
   "metadata": {},
   "source": [
    "## Test"
   ]
  },
  {
   "cell_type": "code",
   "execution_count": 109,
   "metadata": {},
   "outputs": [
    {
     "name": "stdout",
     "output_type": "stream",
     "text": [
      "Length of feature_names: 1983\n",
      "Length of feature_importances: 1983\n"
     ]
    },
    {
     "data": {
      "image/png": "[encoded data removed]",
      "text/plain": [
       "<Figure size 800x600 with 1 Axes>"
      ]
     },
     "metadata": {},
     "output_type": "display_data"
    },
    {
     "data": {
      "text/plain": [
       "{'noise': 0,\n",
       " 'grid_search_res': GridSearchCV(cv=StratifiedKFold(n_splits=5, random_state=42, shuffle=True),\n",
       "              estimator=Pipeline(steps=[('variance_threshold',\n",
       "                                         VarianceThreshold()),\n",
       "                                        ('classifier',\n",
       "                                         RandomForestClassifier(class_weight='balanced',\n",
       "                                                                random_state=42))]),\n",
       "              n_jobs=-1,\n",
       "              param_grid={'classifier__n_estimators': [15, 30, 50, 75, 100, 150,\n",
       "                                                       200, 300, 350, 400]},\n",
       "              scoring='balanced_accuracy'),\n",
       " 'balanced_ac_score': 0.9554939345609202,\n",
       " 'f1_score': 0.9910153896232151}"
      ]
     },
     "execution_count": 109,
     "metadata": {},
     "output_type": "execute_result"
    }
   ],
   "source": [
    "process_noise('rf', 0)\n",
    "#main('rf')"
   ]
  },
  {
   "cell_type": "code",
   "execution_count": 110,
   "metadata": {},
   "outputs": [],
   "source": [
    "#main('gb')"
   ]
  }
 ],
 "metadata": {
  "kernelspec": {
   "display_name": "Python 3",
   "language": "python",
   "name": "python3"
  },
  "language_info": {
   "codemirror_mode": {
    "name": "ipython",
    "version": 3
   },
   "file_extension": ".py",
   "mimetype": "text/x-python",
   "name": "python",
   "nbconvert_exporter": "python",
   "pygments_lexer": "ipython3",
   "version": "3.11.0"
  }
 },
 "nbformat": 4,
 "nbformat_minor": 2
}
